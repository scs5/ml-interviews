{
 "cells": [
  {
   "cell_type": "markdown",
   "metadata": {},
   "source": [
    "## 3. What does it mean for two vectors to be linearly independent?"
   ]
  },
  {
   "cell_type": "markdown",
   "metadata": {},
   "source": [
    "\n",
    "Two vectors are linearly independent if there exists no nontrivial linear combination of them that equal the zero vector.\n",
    "\n",
    "That is, vectors $v_1$ and $v_2$ are linearly independent if the equation $ x_1v_1 + x_2v_2 = 0 $ has only the trivial solution $x_1 = x_2 = 0$."
   ]
  },
  {
   "cell_type": "markdown",
   "metadata": {},
   "source": [
    "## 4. Given two sets of vectors $A=a_1,a_2,a_3,...,a_n$ and  $B=b_1,b_2,b_3,...,b_m$, how do you check that they share the same basis?"
   ]
  },
  {
   "cell_type": "markdown",
   "metadata": {},
   "source": [
    "To check whether two sets of vectors A and B share the same basis, you need to examine whether one set can be formed using linear combinations of vectors from the other set. If every vector in set A can be expressed as a linear combination of vectors in set B (and vice versa), then the two sets share the same basis.\n",
    "\n",
    "To do this,\n",
    "1. Form matrices $A=[a_1, \\dots, a_n]$ and $B=[b_1, \\dots, b_n]$\n",
    "2. Convert the matrices to row echelon form\n",
    "3. If all non-zero rows are the same, then they share the same basis"
   ]
  },
  {
   "cell_type": "markdown",
   "metadata": {},
   "source": [
    "## 5. Given $n$ vectors, each of $d$ dimensions, what is the dimension of their span?\n",
    "If the vectors are all linearly independent, then the dimension of their span will be $\\min(n, d).$\n",
    "- If $n<d$, the vectors will not span the entire $d$-dimensional space, and the span will have dimension $n$.\n",
    "- If $n\\ge d$, the vectors will span the entire $d$-dimensional space, and the span will have dimension $d$."
   ]
  },
  {
   "cell_type": "markdown",
   "metadata": {},
   "source": [
    "# Resources\n",
    "- https://textbooks.math.gatech.edu/ila/linear-independence.html"
   ]
  }
 ],
 "metadata": {
  "language_info": {
   "name": "python"
  }
 },
 "nbformat": 4,
 "nbformat_minor": 2
}
