{
 "cells": [
  {
   "cell_type": "markdown",
   "metadata": {},
   "source": [
    "## What’s the geometric interpretation of the dot product of two vectors?"
   ]
  },
  {
   "cell_type": "markdown",
   "metadata": {},
   "source": [
    "### Answer\n",
    "- The dot product between two vectors is based on the projection of one vector onto another\n",
    "- Given vectors $a$ and $b$, their dot product measures how much of $a$ is pointing in the same direction as $b$.\n",
    "- $a \\cdot b = |a||b| \\cos \\theta$ (where $\\theta$ is the angle between them)"
   ]
  },
  {
   "cell_type": "markdown",
   "metadata": {},
   "source": [
    "### Code Demo"
   ]
  },
  {
   "cell_type": "code",
   "execution_count": 50,
   "metadata": {},
   "outputs": [
    {
     "data": {
      "image/png": "[encoded data removed]",
      "text/plain": [
       "<Figure size 800x800 with 1 Axes>"
      ]
     },
     "metadata": {},
     "output_type": "display_data"
    }
   ],
   "source": [
    "import numpy as np\n",
    "import matplotlib.pyplot as plt\n",
    "\n",
    "# Given two vectors a and b\n",
    "a = np.array([3, 3])\n",
    "b = np.array([5, 0])\n",
    "\n",
    "# Calculate the dot product\n",
    "dot_prod = np.dot(a, b)\n",
    "\n",
    "# And find the projection\n",
    "b_len = np.sqrt(b[0]**2 + b[1]**2)\n",
    "projection_length = dot_prod / b_len\n",
    "projected_vector = projection_length * b / b_len\n",
    "\n",
    "# Plot\n",
    "plt.figure(figsize=(8, 8))\n",
    "plt.style.use('ggplot')\n",
    "\n",
    "plt.quiver(0, 0, a[0], a[1], angles='xy', scale_units='xy', scale=1, color='b', label='Vector a')\n",
    "plt.quiver(0, 0, b[0], b[1], angles='xy', scale_units='xy', scale=1, color='r', label='Vector b')\n",
    "plt.quiver(0, 0, projected_vector[0], projected_vector[1], angles='xy', scale_units='xy', scale=1, color='g', label=r'Projection$ =\\  \\frac{a \\cdot b}{‖b‖}$')\n",
    "plt.plot([projected_vector[0], a[0]], [projected_vector[1], a[1]], 'k--')\n",
    "\n",
    "plt.gca().set_aspect('equal', adjustable='box')\n",
    "plt.legend()\n",
    "plt.legend(fontsize='large')\n",
    "plt.xlim(-1, 6)\n",
    "plt.ylim(-1, 4)\n",
    "plt.xticks([]), plt.yticks([])\n",
    "plt.show()"
   ]
  },
  {
   "cell_type": "markdown",
   "metadata": {},
   "source": [
    "# Resources\n",
    "- https://mathinsight.org/dot_product"
   ]
  }
 ],
 "metadata": {
  "kernelspec": {
   "display_name": "Python 3",
   "language": "python",
   "name": "python3"
  },
  "language_info": {
   "codemirror_mode": {
    "name": "ipython",
    "version": 3
   },
   "file_extension": ".py",
   "mimetype": "text/x-python",
   "name": "python",
   "nbconvert_exporter": "python",
   "pygments_lexer": "ipython3",
   "version": "3.11.5"
  }
 },
 "nbformat": 4,
 "nbformat_minor": 2
}
