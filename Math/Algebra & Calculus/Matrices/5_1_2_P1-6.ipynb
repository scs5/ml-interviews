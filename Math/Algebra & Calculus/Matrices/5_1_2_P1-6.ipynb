{
 "cells": [
  {
   "cell_type": "markdown",
   "metadata": {},
   "source": [
    "## 1. Why do we say that matrices are linear transformations?\n",
    "\n",
    "Matrices are inherently linear:\n",
    "- $A(u + v) = Au + Av$\n",
    "- $A(cu) = cA(u)$\n",
    "\n",
    "This means a matrix maps the inputs to linear combinations of themselves.\n",
    "\n",
    "Example:\n",
    "$Ax = \\begin{bmatrix} 1 & 0 & -1\\\\ 3 & 1 & 2\\end{bmatrix}\\begin{bmatrix}x\\\\ y\\\\ z\\end{bmatrix} = \\begin{bmatrix}x - z\\\\ 3x + y + 2z\\end{bmatrix}$"
   ]
  },
  {
   "cell_type": "markdown",
   "metadata": {},
   "source": [
    "## 2. What’s the inverse of a matrix? Do all matrices have an inverse? Is the inverse of a matrix always unique?\n",
    "\n",
    "The inverse of a matrix $A$ is $A^{-1}$ where $AA^{-1} = I$.\n",
    "\n",
    "A matrix will only have an inverse if its determinant is nonzero. Otherwise, it is said to be *singular*.\n"
   ]
  },
  {
   "cell_type": "markdown",
   "metadata": {},
   "source": [
    "## 3. What does the determinant of a matrix represent?\n",
    "\n",
    "The determinant represents the factor by which areas in the input space are scaled."
   ]
  },
  {
   "cell_type": "markdown",
   "metadata": {},
   "source": [
    "## 4. What happens to the determinant of a matrix if we multiply one of its rows by a scalar $t×R$?\n",
    "The determinant will also be scaled by $t$.\n",
    "\n",
    "Example:<br>\n",
    "Let $A = \\begin{bmatrix}a & b\\\\ c & d\\end{bmatrix}$. We know $\\det A = ad - bc.$\n",
    "\n",
    "$A' = \\begin{bmatrix}ta & tb\\\\ c & d\\end{bmatrix}$. Then $\\det A = tad - tbc = t(ad -bc).$"
   ]
  },
  {
   "cell_type": "markdown",
   "metadata": {},
   "source": [
    "## 5. A $4×4$ matrix has four eigenvalues $3,3,2,−1$. What can we say about the trace and the determinant of this matrix?\n",
    "The trace of the matrix is the sum of its eigenvalues, $Tr(A) = 3 + 3 + 2 - 1 = 7.$\n",
    "\n",
    "The determinany of the matrix is the product of its eigenvalues, $\\det A = 3 \\cdot 3 \\cdot 2 \\cdot -1 = -18.$"
   ]
  },
  {
   "cell_type": "markdown",
   "metadata": {},
   "source": [
    "## 6. Given the following matrix, what can we say about this matrix's determinant?\n",
    "$A = \\begin{bmatrix}1 & 4 & -2\\\\ -1 & 3 & 2\\\\ 3 & 5 & -6\\end{bmatrix}.$\n",
    "\n",
    "Note that the third column is a linear combination of the first two columns ($v_3 = -2v_1$). Hence, the column vectors are not linearly independent and the determinant is 0."
   ]
  },
  {
   "cell_type": "markdown",
   "metadata": {},
   "source": [
    "# Resources\n",
    "- https://mathinsight.org/matrices_linear_transformations\n",
    "- https://www.youtube.com/watch?v=Ip3X9LOh2dk"
   ]
  }
 ],
 "metadata": {
  "language_info": {
   "name": "python"
  }
 },
 "nbformat": 4,
 "nbformat_minor": 2
}
